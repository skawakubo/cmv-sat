{
 "cells": [
  {
   "cell_type": "markdown",
   "metadata": {},
   "source": [
    "## Make histgram of short read distribution by length"
   ]
  },
  {
   "cell_type": "code",
   "execution_count": 2,
   "metadata": {},
   "outputs": [],
   "source": [
    "# load input data\n",
    "import pandas as pd\n",
    "Nben_WT_path = '/Users/skawakubo/Library/CloudStorage/Dropbox/HU/CMV_satellite/satellite_mapping/Nbenthamiana/SRA_SRR10482736_srnaMapper/Error_3nt/Nben_WT_SRR10482736_mappedReads.tsv'\n",
    "Nben_WT = pd.read_table(Nben_WT_path, sep='\\t')"
   ]
  },
  {
   "cell_type": "code",
   "execution_count": 3,
   "metadata": {},
   "outputs": [],
   "source": [
    "# only select third and tenth column\n",
    "Nben_WT = Nben_WT.iloc[:, [2, 9]]\n",
    "Nben_WT.columns = ['ref', 'read']"
   ]
  },
  {
   "cell_type": "code",
   "execution_count": 5,
   "metadata": {},
   "outputs": [
    {
     "data": {
      "text/html": [
       "<div>\n",
       "<style scoped>\n",
       "    .dataframe tbody tr th:only-of-type {\n",
       "        vertical-align: middle;\n",
       "    }\n",
       "\n",
       "    .dataframe tbody tr th {\n",
       "        vertical-align: top;\n",
       "    }\n",
       "\n",
       "    .dataframe thead th {\n",
       "        text-align: right;\n",
       "    }\n",
       "</style>\n",
       "<table border=\"1\" class=\"dataframe\">\n",
       "  <thead>\n",
       "    <tr style=\"text-align: right;\">\n",
       "      <th></th>\n",
       "      <th>ref</th>\n",
       "      <th>read</th>\n",
       "    </tr>\n",
       "  </thead>\n",
       "  <tbody>\n",
       "    <tr>\n",
       "      <th>0</th>\n",
       "      <td>D10037_T73</td>\n",
       "      <td>CTTGGACTTGGAAGAGAA</td>\n",
       "    </tr>\n",
       "    <tr>\n",
       "      <th>1</th>\n",
       "      <td>Ysat</td>\n",
       "      <td>TTCATCGTCTTCATTTCTC</td>\n",
       "    </tr>\n",
       "    <tr>\n",
       "      <th>2</th>\n",
       "      <td>D10037_T73</td>\n",
       "      <td>TGTCCGCTATCTCTCACGC</td>\n",
       "    </tr>\n",
       "    <tr>\n",
       "      <th>3</th>\n",
       "      <td>Ysat</td>\n",
       "      <td>TTCCCGTCTGGTGCACCA</td>\n",
       "    </tr>\n",
       "    <tr>\n",
       "      <th>4</th>\n",
       "      <td>Ysat</td>\n",
       "      <td>TGGATCGTCGGACTGTAG</td>\n",
       "    </tr>\n",
       "    <tr>\n",
       "      <th>...</th>\n",
       "      <td>...</td>\n",
       "      <td>...</td>\n",
       "    </tr>\n",
       "    <tr>\n",
       "      <th>99</th>\n",
       "      <td>Ysat</td>\n",
       "      <td>GGTGTTACTCGTCTGTCT</td>\n",
       "    </tr>\n",
       "    <tr>\n",
       "      <th>100</th>\n",
       "      <td>D10037_T73</td>\n",
       "      <td>ACCTCGAACTCGGAACCGC</td>\n",
       "    </tr>\n",
       "    <tr>\n",
       "      <th>101</th>\n",
       "      <td>D10037_T73</td>\n",
       "      <td>ACCCTGGCGTCGAGCTAT</td>\n",
       "    </tr>\n",
       "    <tr>\n",
       "      <th>102</th>\n",
       "      <td>D10037_T73</td>\n",
       "      <td>ACCCTGGCGTCGAGCTAT</td>\n",
       "    </tr>\n",
       "    <tr>\n",
       "      <th>103</th>\n",
       "      <td>D10037_T73</td>\n",
       "      <td>ACCATCCGACTGGGGACCGAC</td>\n",
       "    </tr>\n",
       "  </tbody>\n",
       "</table>\n",
       "<p>104 rows × 2 columns</p>\n",
       "</div>"
      ],
      "text/plain": [
       "            ref                   read\n",
       "0    D10037_T73     CTTGGACTTGGAAGAGAA\n",
       "1          Ysat    TTCATCGTCTTCATTTCTC\n",
       "2    D10037_T73    TGTCCGCTATCTCTCACGC\n",
       "3          Ysat     TTCCCGTCTGGTGCACCA\n",
       "4          Ysat     TGGATCGTCGGACTGTAG\n",
       "..          ...                    ...\n",
       "99         Ysat     GGTGTTACTCGTCTGTCT\n",
       "100  D10037_T73    ACCTCGAACTCGGAACCGC\n",
       "101  D10037_T73     ACCCTGGCGTCGAGCTAT\n",
       "102  D10037_T73     ACCCTGGCGTCGAGCTAT\n",
       "103  D10037_T73  ACCATCCGACTGGGGACCGAC\n",
       "\n",
       "[104 rows x 2 columns]"
      ]
     },
     "execution_count": 5,
     "metadata": {},
     "output_type": "execute_result"
    }
   ],
   "source": [
    "Nben_WT"
   ]
  },
  {
   "cell_type": "code",
   "execution_count": 6,
   "metadata": {},
   "outputs": [],
   "source": [
    "# create a separate dataframe for each reference sequence\n",
    "Nben_WT_T73 = Nben_WT[Nben_WT['ref'] == 'D10037_T73']\n",
    "Nben_WT_Ysat = Nben_WT[Nben_WT['ref'] == 'Ysat']"
   ]
  },
  {
   "cell_type": "code",
   "execution_count": 7,
   "metadata": {},
   "outputs": [
    {
     "data": {
      "text/plain": [
       "(48, 55)"
      ]
     },
     "execution_count": 7,
     "metadata": {},
     "output_type": "execute_result"
    }
   ],
   "source": [
    "len(Nben_WT_T73), len(Nben_WT_Ysat)"
   ]
  },
  {
   "cell_type": "code",
   "execution_count": 8,
   "metadata": {},
   "outputs": [
    {
     "name": "stderr",
     "output_type": "stream",
     "text": [
      "/var/folders/9v/b3wtpj5n6f30_z6c2cnt7rdr0000gn/T/ipykernel_25291/1986282799.py:2: SettingWithCopyWarning: \n",
      "A value is trying to be set on a copy of a slice from a DataFrame.\n",
      "Try using .loc[row_indexer,col_indexer] = value instead\n",
      "\n",
      "See the caveats in the documentation: https://pandas.pydata.org/pandas-docs/stable/user_guide/indexing.html#returning-a-view-versus-a-copy\n",
      "  Nben_WT_T73['read_len'] = Nben_WT_T73['read'].str.len()\n",
      "/var/folders/9v/b3wtpj5n6f30_z6c2cnt7rdr0000gn/T/ipykernel_25291/1986282799.py:3: SettingWithCopyWarning: \n",
      "A value is trying to be set on a copy of a slice from a DataFrame.\n",
      "Try using .loc[row_indexer,col_indexer] = value instead\n",
      "\n",
      "See the caveats in the documentation: https://pandas.pydata.org/pandas-docs/stable/user_guide/indexing.html#returning-a-view-versus-a-copy\n",
      "  Nben_WT_Ysat['read_len'] = Nben_WT_Ysat['read'].str.len()\n"
     ]
    }
   ],
   "source": [
    "# add a column for the length of the read\n",
    "Nben_WT_T73['read_len'] = Nben_WT_T73['read'].str.len()\n",
    "Nben_WT_Ysat['read_len'] = Nben_WT_Ysat['read'].str.len()"
   ]
  },
  {
   "cell_type": "code",
   "execution_count": 11,
   "metadata": {},
   "outputs": [
    {
     "data": {
      "image/png": "[encoded data removed]",
      "text/plain": [
       "<Figure size 720x360 with 2 Axes>"
      ]
     },
     "metadata": {
      "needs_background": "light"
     },
     "output_type": "display_data"
    }
   ],
   "source": [
    "# Make distribution plot of read lengths for N. benthamiana WT\n",
    "import matplotlib.pyplot as plt\n",
    "import seaborn as sns\n",
    "\n",
    "fig, ax = plt.subplots(1, 2, figsize=(10, 5))\n",
    "\n",
    "sns.histplot(Nben_WT_T73['read_len'], bins=range(18, 28), color='blue', alpha=0.5, label='T73', ax=ax[0])\n",
    "sns.histplot(Nben_WT_Ysat['read_len'], bins=range(18, 28), color='red', alpha=0.5, label='Ysat', ax=ax[1])\n",
    "plt.legend()\n",
    "plt.show()\n"
   ]
  },
  {
   "cell_type": "code",
   "execution_count": 12,
   "metadata": {},
   "outputs": [],
   "source": [
    "# load the data for the dcl24 mutant\n",
    "Nben_dcl24_path = '/Users/skawakubo/Library/CloudStorage/Dropbox/HU/CMV_satellite/satellite_mapping/Nbenthamiana_dcl24/Novogene_smRNAseq_231204/srnaMapper/Error_3nt/Nben_d24_2_mappedReads.tsv'\n",
    "Nben_dcl24 = pd.read_table(Nben_dcl24_path, sep='\\t')"
   ]
  },
  {
   "cell_type": "code",
   "execution_count": 13,
   "metadata": {},
   "outputs": [],
   "source": [
    "Nben_dcl24 = Nben_dcl24.iloc[:, [2, 9]]\n",
    "Nben_dcl24.columns = ['ref', 'read']"
   ]
  },
  {
   "cell_type": "code",
   "execution_count": 14,
   "metadata": {},
   "outputs": [
    {
     "name": "stderr",
     "output_type": "stream",
     "text": [
      "/var/folders/9v/b3wtpj5n6f30_z6c2cnt7rdr0000gn/T/ipykernel_25291/5474259.py:2: SettingWithCopyWarning: \n",
      "A value is trying to be set on a copy of a slice from a DataFrame.\n",
      "Try using .loc[row_indexer,col_indexer] = value instead\n",
      "\n",
      "See the caveats in the documentation: https://pandas.pydata.org/pandas-docs/stable/user_guide/indexing.html#returning-a-view-versus-a-copy\n",
      "  Nben_dcl24_T73['read_len'] = Nben_dcl24_T73['read'].str.len()\n",
      "/var/folders/9v/b3wtpj5n6f30_z6c2cnt7rdr0000gn/T/ipykernel_25291/5474259.py:4: SettingWithCopyWarning: \n",
      "A value is trying to be set on a copy of a slice from a DataFrame.\n",
      "Try using .loc[row_indexer,col_indexer] = value instead\n",
      "\n",
      "See the caveats in the documentation: https://pandas.pydata.org/pandas-docs/stable/user_guide/indexing.html#returning-a-view-versus-a-copy\n",
      "  Nben_dcl24_Ysat['read_len'] = Nben_dcl24_Ysat['read'].str.len()\n"
     ]
    }
   ],
   "source": [
    "Nben_dcl24_T73 = Nben_dcl24[Nben_dcl24['ref'] == 'D10037_T73']\n",
    "Nben_dcl24_T73['read_len'] = Nben_dcl24_T73['read'].str.len()\n",
    "Nben_dcl24_Ysat = Nben_dcl24[Nben_dcl24['ref'] == 'Ysat']\n",
    "Nben_dcl24_Ysat['read_len'] = Nben_dcl24_Ysat['read'].str.len()"
   ]
  },
  {
   "cell_type": "code",
   "execution_count": 29,
   "metadata": {},
   "outputs": [
    {
     "data": {
      "text/html": [
       "<div>\n",
       "<style scoped>\n",
       "    .dataframe tbody tr th:only-of-type {\n",
       "        vertical-align: middle;\n",
       "    }\n",
       "\n",
       "    .dataframe tbody tr th {\n",
       "        vertical-align: top;\n",
       "    }\n",
       "\n",
       "    .dataframe thead th {\n",
       "        text-align: right;\n",
       "    }\n",
       "</style>\n",
       "<table border=\"1\" class=\"dataframe\">\n",
       "  <thead>\n",
       "    <tr style=\"text-align: right;\">\n",
       "      <th></th>\n",
       "      <th>ref</th>\n",
       "      <th>read</th>\n",
       "      <th>read_len</th>\n",
       "    </tr>\n",
       "  </thead>\n",
       "  <tbody>\n",
       "    <tr>\n",
       "      <th>0</th>\n",
       "      <td>Ysat</td>\n",
       "      <td>TTTTTCCAGCTCTGCATTCTCAA</td>\n",
       "      <td>23</td>\n",
       "    </tr>\n",
       "    <tr>\n",
       "      <th>1</th>\n",
       "      <td>Ysat</td>\n",
       "      <td>TTTTTCCAGCTCTGCATTCTCAA</td>\n",
       "      <td>23</td>\n",
       "    </tr>\n",
       "    <tr>\n",
       "      <th>6</th>\n",
       "      <td>Ysat</td>\n",
       "      <td>TGTCTTGATCACATTCCTCT</td>\n",
       "      <td>20</td>\n",
       "    </tr>\n",
       "    <tr>\n",
       "      <th>7</th>\n",
       "      <td>Ysat</td>\n",
       "      <td>TGTCTTGATCACATTCCTCT</td>\n",
       "      <td>20</td>\n",
       "    </tr>\n",
       "    <tr>\n",
       "      <th>8</th>\n",
       "      <td>Ysat</td>\n",
       "      <td>TGTCTTGATCACATTCCTCT</td>\n",
       "      <td>20</td>\n",
       "    </tr>\n",
       "    <tr>\n",
       "      <th>...</th>\n",
       "      <td>...</td>\n",
       "      <td>...</td>\n",
       "      <td>...</td>\n",
       "    </tr>\n",
       "    <tr>\n",
       "      <th>324</th>\n",
       "      <td>Ysat</td>\n",
       "      <td>TGGACGGCGGGTGTCTGCGGT</td>\n",
       "      <td>21</td>\n",
       "    </tr>\n",
       "    <tr>\n",
       "      <th>325</th>\n",
       "      <td>Ysat</td>\n",
       "      <td>TGGACGGCGGGTGTCTGCGGT</td>\n",
       "      <td>21</td>\n",
       "    </tr>\n",
       "    <tr>\n",
       "      <th>326</th>\n",
       "      <td>Ysat</td>\n",
       "      <td>TGGACGGCGGGTGTCTGCGGT</td>\n",
       "      <td>21</td>\n",
       "    </tr>\n",
       "    <tr>\n",
       "      <th>327</th>\n",
       "      <td>Ysat</td>\n",
       "      <td>TGGACGGCGGGTGTCTGCGGT</td>\n",
       "      <td>21</td>\n",
       "    </tr>\n",
       "    <tr>\n",
       "      <th>329</th>\n",
       "      <td>Ysat</td>\n",
       "      <td>AATTTGCTACAAAAGCCGGC</td>\n",
       "      <td>20</td>\n",
       "    </tr>\n",
       "  </tbody>\n",
       "</table>\n",
       "<p>121 rows × 3 columns</p>\n",
       "</div>"
      ],
      "text/plain": [
       "      ref                     read  read_len\n",
       "0    Ysat  TTTTTCCAGCTCTGCATTCTCAA        23\n",
       "1    Ysat  TTTTTCCAGCTCTGCATTCTCAA        23\n",
       "6    Ysat     TGTCTTGATCACATTCCTCT        20\n",
       "7    Ysat     TGTCTTGATCACATTCCTCT        20\n",
       "8    Ysat     TGTCTTGATCACATTCCTCT        20\n",
       "..    ...                      ...       ...\n",
       "324  Ysat    TGGACGGCGGGTGTCTGCGGT        21\n",
       "325  Ysat    TGGACGGCGGGTGTCTGCGGT        21\n",
       "326  Ysat    TGGACGGCGGGTGTCTGCGGT        21\n",
       "327  Ysat    TGGACGGCGGGTGTCTGCGGT        21\n",
       "329  Ysat     AATTTGCTACAAAAGCCGGC        20\n",
       "\n",
       "[121 rows x 3 columns]"
      ]
     },
     "execution_count": 29,
     "metadata": {},
     "output_type": "execute_result"
    }
   ],
   "source": [
    "Nben_dcl24_Ysat"
   ]
  },
  {
   "cell_type": "code",
   "execution_count": 15,
   "metadata": {},
   "outputs": [
    {
     "data": {
      "image/png": "[encoded data removed]",
      "text/plain": [
       "<Figure size 720x360 with 2 Axes>"
      ]
     },
     "metadata": {
      "needs_background": "light"
     },
     "output_type": "display_data"
    }
   ],
   "source": [
    "# Make distribution plot of read lengths for N. benthamiana dcl24 mutant\n",
    "# plot both read length distributions as separate panel and put next to each other\n",
    "fig, ax = plt.subplots(1, 2, figsize=(10, 5))\n",
    "\n",
    "sns.histplot(Nben_dcl24_T73['read_len'], bins=range(18, 28), color='blue', alpha=0.5, label='T73', ax=ax[0])\n",
    "sns.histplot(Nben_dcl24_Ysat['read_len'], bins=range(18, 28), color='red', alpha=0.5, label='Ysat', ax=ax[1])\n",
    "plt.legend()\n",
    "plt.show()"
   ]
  },
  {
   "cell_type": "code",
   "execution_count": 16,
   "metadata": {},
   "outputs": [],
   "source": [
    "# load the data for the N. tabacum WT\n",
    "Ntab_WT_path = '/Users/skawakubo/Library/CloudStorage/Dropbox/HU/CMV_satellite/satellite_mapping/Nbenthamiana/SRA_Wang_PLoSGenetics/srnaMapper/Ntabacum_SRR1661412_mappedReads.tsv'\n",
    "Ntab_WT = pd.read_table(Ntab_WT_path, sep='\\t')"
   ]
  },
  {
   "cell_type": "code",
   "execution_count": 17,
   "metadata": {},
   "outputs": [],
   "source": [
    "Ntab_WT = Ntab_WT.iloc[:, [2, 9]]\n",
    "Ntab_WT.columns = ['ref', 'read']"
   ]
  },
  {
   "cell_type": "code",
   "execution_count": 18,
   "metadata": {},
   "outputs": [
    {
     "name": "stderr",
     "output_type": "stream",
     "text": [
      "/var/folders/9v/b3wtpj5n6f30_z6c2cnt7rdr0000gn/T/ipykernel_25291/1215803842.py:2: SettingWithCopyWarning: \n",
      "A value is trying to be set on a copy of a slice from a DataFrame.\n",
      "Try using .loc[row_indexer,col_indexer] = value instead\n",
      "\n",
      "See the caveats in the documentation: https://pandas.pydata.org/pandas-docs/stable/user_guide/indexing.html#returning-a-view-versus-a-copy\n",
      "  Ntab_WT_T73['read_len'] = Ntab_WT_T73['read'].str.len()\n",
      "/var/folders/9v/b3wtpj5n6f30_z6c2cnt7rdr0000gn/T/ipykernel_25291/1215803842.py:4: SettingWithCopyWarning: \n",
      "A value is trying to be set on a copy of a slice from a DataFrame.\n",
      "Try using .loc[row_indexer,col_indexer] = value instead\n",
      "\n",
      "See the caveats in the documentation: https://pandas.pydata.org/pandas-docs/stable/user_guide/indexing.html#returning-a-view-versus-a-copy\n",
      "  Ntab_WT_Ysat['read_len'] = Ntab_WT_Ysat['read'].str.len()\n"
     ]
    }
   ],
   "source": [
    "Ntab_WT_T73 = Ntab_WT[Ntab_WT['ref'] == 'D10037_T73']\n",
    "Ntab_WT_T73['read_len'] = Ntab_WT_T73['read'].str.len()\n",
    "Ntab_WT_Ysat = Ntab_WT[Ntab_WT['ref'] == 'Ysat']\n",
    "Ntab_WT_Ysat['read_len'] = Ntab_WT_Ysat['read'].str.len()"
   ]
  },
  {
   "cell_type": "code",
   "execution_count": 19,
   "metadata": {},
   "outputs": [
    {
     "data": {
      "image/png": "[encoded data removed]",
      "text/plain": [
       "<Figure size 720x360 with 2 Axes>"
      ]
     },
     "metadata": {
      "needs_background": "light"
     },
     "output_type": "display_data"
    }
   ],
   "source": [
    "# Make distribution plot of read lengths for N. tabacum WT\n",
    "# plot both read length distributions as separate panel and put next to each other\n",
    "fig, ax = plt.subplots(1, 2, figsize=(10, 5))\n",
    "\n",
    "sns.histplot(Ntab_WT_T73['read_len'], bins=range(18, 28), color='blue', alpha=0.5, label='T73', ax=ax[0])\n",
    "sns.histplot(Ntab_WT_Ysat['read_len'], bins=range(18, 28), color='red', alpha=0.5, label='Ysat', ax=ax[1])\n",
    "plt.legend()\n",
    "plt.show()"
   ]
  },
  {
   "cell_type": "code",
   "execution_count": 33,
   "metadata": {},
   "outputs": [
    {
     "data": {
      "image/png": "[encoded data removed]",
      "text/plain": [
       "<Figure size 1080x720 with 6 Axes>"
      ]
     },
     "metadata": {
      "needs_background": "light"
     },
     "output_type": "display_data"
    }
   ],
   "source": [
    "from matplotlib.backends.backend_pdf import PdfPages\n",
    "import matplotlib.pyplot as plt\n",
    "from matplotlib import rcParams\n",
    "import seaborn as sns\n",
    "\n",
    "# font setting\n",
    "plt.rcParams['font.family'] = 'Arial'\n",
    "\n",
    "# font embedding setting\n",
    "rcParams['pdf.fonttype'] = 42  # Use Type 3 fonts \n",
    "rcParams['ps.fonttype'] = 42\n",
    "\n",
    "# Make distribution plot of read lengths for all samples\n",
    "fig, ax = plt.subplots(2, 3, figsize=(15, 10))\n",
    "\n",
    "# N. benthamiana WT\n",
    "sns.histplot(Nben_WT_Ysat['read_len'], bins=range(18, 26), color='#f5888a', alpha=0.5, label='Ysat', ax=ax[0, 0])\n",
    "sns.histplot(Nben_WT_T73['read_len'], bins=range(18, 26), color='#95a3ce', alpha=0.5, label='T73', ax=ax[1, 0])\n",
    "ax[0, 0].set_title('N. benthamiana WT - Ysat')\n",
    "ax[1, 0].set_title('N. benthamiana WT - T73')\n",
    "\n",
    "# N. benthamiana dcl24 mutant\n",
    "sns.histplot(Nben_dcl24_Ysat['read_len'], bins=range(18, 26), color='#f5888a', alpha=0.5, label='Ysat', ax=ax[0, 1])\n",
    "sns.histplot(Nben_dcl24_T73['read_len'], bins=range(18, 26), color='#95a3ce', alpha=0.5, label='T73', ax=ax[1, 1])\n",
    "ax[0, 1].set_title('N. benthamiana dcl24 - Ysat')\n",
    "ax[1, 1].set_title('N. benthamiana dcl24 - T73')\n",
    "\n",
    "# N. tabacum WT\n",
    "sns.histplot(Ntab_WT_Ysat['read_len'], bins=range(18, 26), color='#f5888a', alpha=0.5, label='Ysat', ax=ax[0, 2])\n",
    "sns.histplot(Ntab_WT_T73['read_len'], bins=range(18, 26), color='#95a3ce', alpha=0.5, label='T73', ax=ax[1, 2])\n",
    "ax[0, 2].set_title('N. tabacum WT - Ysat')\n",
    "ax[1, 2].set_title('N. tabacum WT - T73')\n",
    "\n",
    "#plt.legend()\n",
    "plt.show()\n",
    "\n",
    "# export the figure as a pdf file\n",
    "fig.savefig('/Users/skawakubo/Library/CloudStorage/Dropbox/HU/CMV_satellite/satellite_mapping/Reads_length_dist/read_length_distribution.pdf')"
   ]
  }
 ],
 "metadata": {
  "kernelspec": {
   "display_name": "base",
   "language": "python",
   "name": "python3"
  },
  "language_info": {
   "codemirror_mode": {
    "name": "ipython",
    "version": 3
   },
   "file_extension": ".py",
   "mimetype": "text/x-python",
   "name": "python",
   "nbconvert_exporter": "python",
   "pygments_lexer": "ipython3",
   "version": "3.9.12"
  }
 },
 "nbformat": 4,
 "nbformat_minor": 2
}
